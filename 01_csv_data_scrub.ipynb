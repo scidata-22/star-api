{
 "cells": [
  {
   "cell_type": "code",
   "execution_count": 1,
   "id": "8ec792d5-8260-406f-a04b-5a91c19af742",
   "metadata": {},
   "outputs": [],
   "source": [
    "# Global Imports\n",
    "import pandas as pd\n",
    "import sqlalchemy as sqmy"
   ]
  },
  {
   "cell_type": "code",
   "execution_count": 2,
   "id": "993d7eb0-2783-4b2d-a142-53d7474ba736",
   "metadata": {},
   "outputs": [],
   "source": [
    "CSV_CUST_INFO = \"TIB_CaseStudyCust.csv\"\n",
    "CSV_CUST_TRAN = \"TIB_CaseStudyTransacts.csv\"\n",
    "OUTPUT_DB = \"customer.db\""
   ]
  },
  {
   "cell_type": "code",
   "execution_count": 3,
   "id": "9079eb4c-7067-4be5-80d0-a9885931e1a2",
   "metadata": {},
   "outputs": [],
   "source": [
    "engine = sqmy.create_engine(f\"sqlite:///{OUTPUT_DB}\")"
   ]
  },
  {
   "cell_type": "code",
   "execution_count": 4,
   "id": "da9d329f-dd79-4fc9-a25c-42fc94241c61",
   "metadata": {},
   "outputs": [],
   "source": [
    "def data_scrub(df, column_name: str, min_range: int = None, max_range: int = None, include_nan: bool = True):    \n",
    "    # Create a filter for the DataFrame\n",
    "    filter_condition = True  # Start with True\n",
    "\n",
    "    if min_range is not None:\n",
    "        filter_condition &= (df[column_name] >= min_range)\n",
    "    \n",
    "    if max_range is not None:\n",
    "        filter_condition &= (df[column_name] <= max_range)\n",
    "\n",
    "    if include_nan:\n",
    "        filter_condition |= df[column_name].isna()\n",
    "    else:\n",
    "        filter_condition &= ~df[column_name].isna()  # Exclude NaN if not included\n",
    "\n",
    "    # Apply the filter to the global DataFrame\n",
    "    return df[filter_condition]\n"
   ]
  },
  {
   "cell_type": "code",
   "execution_count": 5,
   "id": "97575bf1-6807-4881-a5f8-ccf0ad7a7a0f",
   "metadata": {},
   "outputs": [],
   "source": [
    "def cust_info_clean():\n",
    "    df = pd.read_csv(CSV_CUST_INFO)\n",
    "    df = df.drop('INSTITUTION_ID', axis=1)\n",
    "    df = df.drop_duplicates(subset='CUSTOMER_ID')\n",
    "    \n",
    "    # The legal adult age is 18. The avg life expectancy is 80\n",
    "    # Scrap unrealistic age values\n",
    "    df = data_scrub(df, \"AGE\", 18, 80)\n",
    "\n",
    "    # Store the list of valid US state codes along with D.C.\n",
    "    state_codes = [\n",
    "        'AL', 'AK', 'AZ', 'AR', 'CA', 'CO', 'CT', 'DE', 'FL', 'GA',\n",
    "        'HI', 'ID', 'IL', 'IN', 'IA', 'KS', 'KY', 'LA', 'ME', 'MD',\n",
    "        'MA', 'MI', 'MN', 'MS', 'MO', 'MT', 'NE', 'NV', 'NH', 'NJ',\n",
    "        'NM', 'NY', 'NC', 'ND', 'OH', 'OK', 'OR', 'PA', 'RI', 'SC',\n",
    "        'SD', 'TN', 'TX', 'UT', 'VT', 'VA', 'WA', 'WV', 'WI', 'WY',\n",
    "        'DC', '' # Include D.C.\n",
    "    ]\n",
    "    df = df[df[\"STATE\"].isin(state_codes)]\n",
    "\n",
    "    # We assume max of 50 accounts with the institution\n",
    "    df = data_scrub(df, \"TOTAL_ACCOUNTS\", 0, 50)\n",
    "    \n",
    "    # Estimated Y2D income amount threshold\n",
    "    df = data_scrub(df, \"YEAR_TO_DATE_ESTIMATED_INCOME_AMOUNT\", 1, None)\n",
    "\n",
    "    df.to_sql('INFO', con=engine, if_exists='replace', index=False)\n",
    "    # df.to_csv('Cust_Filter.csv', index=False)"
   ]
  },
  {
   "cell_type": "code",
   "execution_count": 6,
   "id": "ecafc99f-338a-425b-a5ca-be2df7526125",
   "metadata": {},
   "outputs": [],
   "source": [
    "def cust_tran_clean():\n",
    "    df = pd.read_csv(CSV_CUST_TRAN)\n",
    "    df = df.drop('INSTITUTION_ID', axis=1)\n",
    "    df = df.drop_duplicates(subset='TRANSACTION_ID')\n",
    "    # df = df.dropna(subset=['TRANSACTION_AMOUNT'])\n",
    "    df = data_scrub(df, \"TRANSACTION_AMOUNT\", include_nan=False)\n",
    "    df.to_sql('TRAN', con=engine, if_exists='replace', index=False)\n",
    "    # df.to_csv('Tran_Filter.csv', index=False)"
   ]
  },
  {
   "cell_type": "code",
   "execution_count": 7,
   "id": "4d08bb8b-923e-4b9f-8c17-78dcb3c4ab92",
   "metadata": {},
   "outputs": [],
   "source": [
    "cust_info_clean()"
   ]
  },
  {
   "cell_type": "code",
   "execution_count": 8,
   "id": "b67af027-f2b4-4087-b131-7a91f7b90556",
   "metadata": {},
   "outputs": [],
   "source": [
    "cust_tran_clean()"
   ]
  },
  {
   "cell_type": "code",
   "execution_count": 9,
   "id": "876030c9-dd1e-4a25-81f2-8178c8cb8641",
   "metadata": {},
   "outputs": [],
   "source": [
    "# Join the tables based on CUSTOMER_ID\n",
    "join_query = \"\"\"\n",
    "SELECT * FROM INFO AS I\n",
    "JOIN TRAN AS T\n",
    "ON I.CUSTOMER_ID = T.CUSTOMER_ID\n",
    "\"\"\"\n",
    "\n",
    "# Execute the query\n",
    "with engine.connect() as db:\n",
    "    db.execute(sqmy.text(join_query))"
   ]
  }
 ],
 "metadata": {
  "kernelspec": {
   "display_name": "Python 3 (ipykernel)",
   "language": "python",
   "name": "python3"
  },
  "language_info": {
   "codemirror_mode": {
    "name": "ipython",
    "version": 3
   },
   "file_extension": ".py",
   "mimetype": "text/x-python",
   "name": "python",
   "nbconvert_exporter": "python",
   "pygments_lexer": "ipython3",
   "version": "3.13.0"
  }
 },
 "nbformat": 4,
 "nbformat_minor": 5
}
