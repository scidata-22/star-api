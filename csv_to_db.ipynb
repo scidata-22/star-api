{
 "cells": [
  {
   "cell_type": "code",
   "execution_count": 1,
   "id": "a6e4bb92-36fa-4fa0-be47-d91a9f17a3bc",
   "metadata": {},
   "outputs": [],
   "source": [
    "import pandas as pd\n",
    "import sqlalchemy as sqmy"
   ]
  },
  {
   "cell_type": "code",
   "execution_count": null,
   "id": "cf0585cc-6ecc-4be4-beaa-f9c04577b13c",
   "metadata": {},
   "outputs": [],
   "source": []
  }
 ],
 "metadata": {
  "kernelspec": {
   "display_name": "Python 3 (ipykernel)",
   "language": "python",
   "name": "python3"
  },
  "language_info": {
   "codemirror_mode": {
    "name": "ipython",
    "version": 3
   },
   "file_extension": ".py",
   "mimetype": "text/x-python",
   "name": "python",
   "nbconvert_exporter": "python",
   "pygments_lexer": "ipython3",
   "version": "3.13.0"
  }
 },
 "nbformat": 4,
 "nbformat_minor": 5
}
