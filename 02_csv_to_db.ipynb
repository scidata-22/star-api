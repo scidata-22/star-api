{
 "cells": [
  {
   "cell_type": "code",
   "execution_count": 1,
   "id": "a6e4bb92-36fa-4fa0-be47-d91a9f17a3bc",
   "metadata": {},
   "outputs": [],
   "source": [
    "import pandas as pd\n",
    "import sqlalchemy as sqmy"
   ]
  },
  {
   "cell_type": "code",
   "execution_count": 2,
   "id": "cf0585cc-6ecc-4be4-beaa-f9c04577b13c",
   "metadata": {},
   "outputs": [],
   "source": [
    "CSV_CUST_INFO = \"Cust_Filter.csv\"\n",
    "CSV_CUST_TRAN = \"Tran_Filter.csv\""
   ]
  },
  {
   "cell_type": "code",
   "execution_count": 3,
   "id": "bdf8cd43-2803-4e9d-842f-bff858f8d4e1",
   "metadata": {},
   "outputs": [],
   "source": [
    "engine = sqmy.create_engine(f\"sqlite:///customer.db\")"
   ]
  },
  {
   "cell_type": "code",
   "execution_count": 4,
   "id": "503b3a11-4331-41ae-be0c-847cc2518847",
   "metadata": {},
   "outputs": [
    {
     "data": {
      "text/plain": [
       "117920"
      ]
     },
     "execution_count": 4,
     "metadata": {},
     "output_type": "execute_result"
    }
   ],
   "source": [
    "df = pd.read_csv(CSV_CUST_INFO)\n",
    "df.to_sql('INFO', con=engine, if_exists='replace', index=False)"
   ]
  },
  {
   "cell_type": "code",
   "execution_count": 5,
   "id": "afd83952-65c2-4361-b1f5-c3544eb274d8",
   "metadata": {},
   "outputs": [
    {
     "data": {
      "text/plain": [
       "116514"
      ]
     },
     "execution_count": 5,
     "metadata": {},
     "output_type": "execute_result"
    }
   ],
   "source": [
    "df = pd.read_csv(CSV_CUST_TRAN)\n",
    "df.to_sql('TRAN', con=engine, if_exists='replace', index=False)"
   ]
  },
  {
   "cell_type": "code",
   "execution_count": 7,
   "id": "f7edf307-2d76-4966-b0bf-8f43b2648c03",
   "metadata": {},
   "outputs": [],
   "source": [
    "# Join the tables based on CUSTOMER_ID\n",
    "join_query = \"\"\"\n",
    "SELECT * FROM INFO AS I\n",
    "JOIN TRAN AS T\n",
    "ON I.CUSTOMER_ID = T.CUSTOMER_ID\n",
    "\"\"\"\n",
    "\n",
    "# Execute the query\n",
    "with engine.connect() as db:\n",
    "    db.execute(sqmy.text(join_query))"
   ]
  }
 ],
 "metadata": {
  "kernelspec": {
   "display_name": "Python 3 (ipykernel)",
   "language": "python",
   "name": "python3"
  },
  "language_info": {
   "codemirror_mode": {
    "name": "ipython",
    "version": 3
   },
   "file_extension": ".py",
   "mimetype": "text/x-python",
   "name": "python",
   "nbconvert_exporter": "python",
   "pygments_lexer": "ipython3",
   "version": "3.13.0"
  }
 },
 "nbformat": 4,
 "nbformat_minor": 5
}
