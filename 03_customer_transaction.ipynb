{
 "cells": [
  {
   "cell_type": "code",
   "execution_count": null,
   "id": "8d9e552b",
   "metadata": {},
   "outputs": [],
   "source": [
    "from sqldb import QueryDB"
   ]
  },
  {
   "cell_type": "code",
   "execution_count": 3,
   "id": "caf92381-4e5e-4d8d-9105-be644be71733",
   "metadata": {},
   "outputs": [],
   "source": [
    "db = QueryDB()"
   ]
  },
  {
   "cell_type": "markdown",
   "id": "85ebb9d1-dd86-4e04-b827-4e3a0349340b",
   "metadata": {},
   "source": [
    "1. Transaction Volume Over Time"
   ]
  },
  {
   "cell_type": "code",
   "execution_count": 4,
   "id": "a4d58f38-6aa3-496f-ba6d-624fabd40edf",
   "metadata": {},
   "outputs": [
    {
     "data": {
      "text/html": [
       "<div>\n",
       "<style scoped>\n",
       "    .dataframe tbody tr th:only-of-type {\n",
       "        vertical-align: middle;\n",
       "    }\n",
       "\n",
       "    .dataframe tbody tr th {\n",
       "        vertical-align: top;\n",
       "    }\n",
       "\n",
       "    .dataframe thead th {\n",
       "        text-align: right;\n",
       "    }\n",
       "</style>\n",
       "<table border=\"1\" class=\"dataframe\">\n",
       "  <thead>\n",
       "    <tr style=\"text-align: right;\">\n",
       "      <th></th>\n",
       "      <th>year</th>\n",
       "      <th>transaction_count</th>\n",
       "      <th>ACCOUNT_TYPE</th>\n",
       "    </tr>\n",
       "  </thead>\n",
       "  <tbody>\n",
       "    <tr>\n",
       "      <th>0</th>\n",
       "      <td>2021</td>\n",
       "      <td>1</td>\n",
       "      <td>CD</td>\n",
       "    </tr>\n",
       "    <tr>\n",
       "      <th>1</th>\n",
       "      <td>2021</td>\n",
       "      <td>18006</td>\n",
       "      <td>Checking</td>\n",
       "    </tr>\n",
       "    <tr>\n",
       "      <th>2</th>\n",
       "      <td>2021</td>\n",
       "      <td>208</td>\n",
       "      <td>Loan</td>\n",
       "    </tr>\n",
       "    <tr>\n",
       "      <th>3</th>\n",
       "      <td>2021</td>\n",
       "      <td>321</td>\n",
       "      <td>Savings</td>\n",
       "    </tr>\n",
       "    <tr>\n",
       "      <th>4</th>\n",
       "      <td>2022</td>\n",
       "      <td>8</td>\n",
       "      <td>CD</td>\n",
       "    </tr>\n",
       "    <tr>\n",
       "      <th>5</th>\n",
       "      <td>2022</td>\n",
       "      <td>32720</td>\n",
       "      <td>Checking</td>\n",
       "    </tr>\n",
       "    <tr>\n",
       "      <th>6</th>\n",
       "      <td>2022</td>\n",
       "      <td>380</td>\n",
       "      <td>Loan</td>\n",
       "    </tr>\n",
       "    <tr>\n",
       "      <th>7</th>\n",
       "      <td>2022</td>\n",
       "      <td>605</td>\n",
       "      <td>Savings</td>\n",
       "    </tr>\n",
       "    <tr>\n",
       "      <th>8</th>\n",
       "      <td>2023</td>\n",
       "      <td>8</td>\n",
       "      <td>CD</td>\n",
       "    </tr>\n",
       "    <tr>\n",
       "      <th>9</th>\n",
       "      <td>2023</td>\n",
       "      <td>35781</td>\n",
       "      <td>Checking</td>\n",
       "    </tr>\n",
       "    <tr>\n",
       "      <th>10</th>\n",
       "      <td>2023</td>\n",
       "      <td>2</td>\n",
       "      <td>IRA</td>\n",
       "    </tr>\n",
       "    <tr>\n",
       "      <th>11</th>\n",
       "      <td>2023</td>\n",
       "      <td>408</td>\n",
       "      <td>Loan</td>\n",
       "    </tr>\n",
       "    <tr>\n",
       "      <th>12</th>\n",
       "      <td>2023</td>\n",
       "      <td>677</td>\n",
       "      <td>Savings</td>\n",
       "    </tr>\n",
       "    <tr>\n",
       "      <th>13</th>\n",
       "      <td>2024</td>\n",
       "      <td>5</td>\n",
       "      <td>CD</td>\n",
       "    </tr>\n",
       "    <tr>\n",
       "      <th>14</th>\n",
       "      <td>2024</td>\n",
       "      <td>26517</td>\n",
       "      <td>Checking</td>\n",
       "    </tr>\n",
       "    <tr>\n",
       "      <th>15</th>\n",
       "      <td>2024</td>\n",
       "      <td>297</td>\n",
       "      <td>Loan</td>\n",
       "    </tr>\n",
       "    <tr>\n",
       "      <th>16</th>\n",
       "      <td>2024</td>\n",
       "      <td>570</td>\n",
       "      <td>Savings</td>\n",
       "    </tr>\n",
       "  </tbody>\n",
       "</table>\n",
       "</div>"
      ],
      "text/plain": [
       "    year  transaction_count ACCOUNT_TYPE\n",
       "0   2021                  1           CD\n",
       "1   2021              18006     Checking\n",
       "2   2021                208         Loan\n",
       "3   2021                321      Savings\n",
       "4   2022                  8           CD\n",
       "5   2022              32720     Checking\n",
       "6   2022                380         Loan\n",
       "7   2022                605      Savings\n",
       "8   2023                  8           CD\n",
       "9   2023              35781     Checking\n",
       "10  2023                  2          IRA\n",
       "11  2023                408         Loan\n",
       "12  2023                677      Savings\n",
       "13  2024                  5           CD\n",
       "14  2024              26517     Checking\n",
       "15  2024                297         Loan\n",
       "16  2024                570      Savings"
      ]
     },
     "execution_count": 4,
     "metadata": {},
     "output_type": "execute_result"
    }
   ],
   "source": [
    "qry = \"\"\"\n",
    "SELECT strftime('%Y', POSTED_DATE) AS year, COUNT(*) AS transaction_count, ACCOUNT_TYPE\n",
    "FROM TRAn\n",
    "GROUP BY year,ACCOUNT_TYPE\n",
    "ORDER BY year,ACCOUNT_TYPE;\n",
    "\"\"\"\n",
    "db.execute(qry)"
   ]
  },
  {
   "cell_type": "code",
   "execution_count": 5,
   "id": "1ddd5113-62c3-47da-9a16-b783e3b1a4d8",
   "metadata": {},
   "outputs": [
    {
     "data": {
      "image/png": "[encoded data removed]",
      "text/plain": [
       "<Figure size 800x500 with 1 Axes>"
      ]
     },
     "metadata": {},
     "output_type": "display_data"
    }
   ],
   "source": [
    "db.plot_stacked_bar(qry, \"year\", \"transaction_count\", \"ACCOUNT_TYPE\")"
   ]
  },
  {
   "cell_type": "markdown",
   "id": "d1fa8d48-07b7-44ce-917f-fcab6ec4270d",
   "metadata": {},
   "source": [
    "The data shows overall growth in transactions for checking and savings accounts from 2021 to 2024, suggesting a positive trend in customer engagement."
   ]
  },
  {
   "cell_type": "markdown",
   "id": "1245b6f5-3209-440e-be62-75ff9feee018",
   "metadata": {},
   "source": [
    "ENGAGEMENT SCORE"
   ]
  },
  {
   "cell_type": "code",
   "execution_count": 6,
   "id": "67f53cd1-de87-4eac-9822-1ec89ad50c41",
   "metadata": {},
   "outputs": [
    {
     "data": {
      "text/html": [
       "<div>\n",
       "<style scoped>\n",
       "    .dataframe tbody tr th:only-of-type {\n",
       "        vertical-align: middle;\n",
       "    }\n",
       "\n",
       "    .dataframe tbody tr th {\n",
       "        vertical-align: top;\n",
       "    }\n",
       "\n",
       "    .dataframe thead th {\n",
       "        text-align: right;\n",
       "    }\n",
       "</style>\n",
       "<table border=\"1\" class=\"dataframe\">\n",
       "  <thead>\n",
       "    <tr style=\"text-align: right;\">\n",
       "      <th></th>\n",
       "      <th>CUSTOMER_ID</th>\n",
       "      <th>transaction_count</th>\n",
       "      <th>total_amount</th>\n",
       "      <th>engagement_score</th>\n",
       "    </tr>\n",
       "  </thead>\n",
       "  <tbody>\n",
       "    <tr>\n",
       "      <th>0</th>\n",
       "      <td>9817178</td>\n",
       "      <td>3</td>\n",
       "      <td>48446630.16</td>\n",
       "      <td>2.422332e+07</td>\n",
       "    </tr>\n",
       "    <tr>\n",
       "      <th>1</th>\n",
       "      <td>6059066</td>\n",
       "      <td>3</td>\n",
       "      <td>44921764.99</td>\n",
       "      <td>2.246088e+07</td>\n",
       "    </tr>\n",
       "    <tr>\n",
       "      <th>2</th>\n",
       "      <td>8325927</td>\n",
       "      <td>4</td>\n",
       "      <td>36245303.44</td>\n",
       "      <td>1.812265e+07</td>\n",
       "    </tr>\n",
       "    <tr>\n",
       "      <th>3</th>\n",
       "      <td>4199470</td>\n",
       "      <td>1</td>\n",
       "      <td>25068811.91</td>\n",
       "      <td>1.253441e+07</td>\n",
       "    </tr>\n",
       "    <tr>\n",
       "      <th>4</th>\n",
       "      <td>9997760</td>\n",
       "      <td>5</td>\n",
       "      <td>20013809.98</td>\n",
       "      <td>1.000691e+07</td>\n",
       "    </tr>\n",
       "    <tr>\n",
       "      <th>5</th>\n",
       "      <td>1561357</td>\n",
       "      <td>3</td>\n",
       "      <td>14631934.09</td>\n",
       "      <td>7.315969e+06</td>\n",
       "    </tr>\n",
       "    <tr>\n",
       "      <th>6</th>\n",
       "      <td>8069717</td>\n",
       "      <td>1</td>\n",
       "      <td>13182000.51</td>\n",
       "      <td>6.591001e+06</td>\n",
       "    </tr>\n",
       "    <tr>\n",
       "      <th>7</th>\n",
       "      <td>116624</td>\n",
       "      <td>1</td>\n",
       "      <td>10871465.89</td>\n",
       "      <td>5.435733e+06</td>\n",
       "    </tr>\n",
       "    <tr>\n",
       "      <th>8</th>\n",
       "      <td>31741169</td>\n",
       "      <td>1</td>\n",
       "      <td>8400000.00</td>\n",
       "      <td>4.200000e+06</td>\n",
       "    </tr>\n",
       "    <tr>\n",
       "      <th>9</th>\n",
       "      <td>33131851</td>\n",
       "      <td>5</td>\n",
       "      <td>7970742.53</td>\n",
       "      <td>3.985374e+06</td>\n",
       "    </tr>\n",
       "  </tbody>\n",
       "</table>\n",
       "</div>"
      ],
      "text/plain": [
       "   CUSTOMER_ID  transaction_count  total_amount  engagement_score\n",
       "0      9817178                  3   48446630.16      2.422332e+07\n",
       "1      6059066                  3   44921764.99      2.246088e+07\n",
       "2      8325927                  4   36245303.44      1.812265e+07\n",
       "3      4199470                  1   25068811.91      1.253441e+07\n",
       "4      9997760                  5   20013809.98      1.000691e+07\n",
       "5      1561357                  3   14631934.09      7.315969e+06\n",
       "6      8069717                  1   13182000.51      6.591001e+06\n",
       "7       116624                  1   10871465.89      5.435733e+06\n",
       "8     31741169                  1    8400000.00      4.200000e+06\n",
       "9     33131851                  5    7970742.53      3.985374e+06"
      ]
     },
     "execution_count": 6,
     "metadata": {},
     "output_type": "execute_result"
    }
   ],
   "source": [
    "qry = \"\"\"\n",
    "SELECT \n",
    "    CUSTOMER_ID,\n",
    "    COUNT(*) AS transaction_count,\n",
    "    COALESCE(SUM(TRANSACTION_AMOUNT), 0) AS total_amount,\n",
    "    (COUNT(*) * 0.5 + COALESCE(SUM(TRANSACTION_AMOUNT), 0) * 0.5) AS engagement_score\n",
    "FROM \n",
    "    TRAN\n",
    "GROUP BY \n",
    "    CUSTOMER_ID\n",
    "HAVING \n",
    "    COUNT(*) > 0\n",
    "ORDER BY \n",
    "    engagement_score DESC\n",
    "LIMIT 10;\n",
    "\"\"\"\n",
    "db.execute(qry)"
   ]
  },
  {
   "cell_type": "markdown",
   "id": "fa6163e8-b698-4079-a009-e8599731d335",
   "metadata": {},
   "source": [
    "Customers like 9817178 and 6059066 are top spenders with multiple transactions, indicating strong engagement"
   ]
  },
  {
   "cell_type": "code",
   "execution_count": 7,
   "id": "a409027f-4eb0-4702-9aef-879a0fcf7faa",
   "metadata": {},
   "outputs": [
    {
     "ename": "SyntaxError",
     "evalue": "invalid syntax (1559139626.py, line 1)",
     "output_type": "error",
     "traceback": [
      "\u001b[1;36m  Cell \u001b[1;32mIn[7], line 1\u001b[1;36m\u001b[0m\n\u001b[1;33m    CUSTOMER SEGMENTATION\u001b[0m\n\u001b[1;37m             ^\u001b[0m\n\u001b[1;31mSyntaxError\u001b[0m\u001b[1;31m:\u001b[0m invalid syntax\n"
     ]
    }
   ],
   "source": [
    "CUSTOMER SEGMENTATION"
   ]
  },
  {
   "cell_type": "code",
   "execution_count": null,
   "id": "7e7355d4-9664-4608-b9d7-95762dab8118",
   "metadata": {},
   "outputs": [],
   "source": [
    "qry = \"\"\"\n",
    "SELECT segment, COUNT(CUSTOMER_ID) AS customer_count\n",
    "FROM (\n",
    "    SELECT CUSTOMER_ID,\n",
    "           CASE \n",
    "               WHEN SUM(TRANSACTION_AMOUNT) > 1000 THEN 'High Spender'\n",
    "               WHEN COUNT(*) > 20 THEN 'Frequent Shopper'\n",
    "               ELSE 'Occasional User'\n",
    "           END AS segment\n",
    "    FROM TRAN\n",
    "    GROUP BY CUSTOMER_ID\n",
    ") AS segments\n",
    "GROUP BY segment;\n",
    "\"\"\"\n",
    "db.execute(qry)"
   ]
  },
  {
   "cell_type": "markdown",
   "id": "b6887c89-991f-4bd0-ba38-e864001696a0",
   "metadata": {},
   "source": [
    "the majority of customers are occasional users, with a large subset also considered high spenders. This insight can help in tailoring marketing strategies for different customer segments."
   ]
  },
  {
   "cell_type": "code",
   "execution_count": null,
   "id": "c6d5a3cf-5075-4568-9c98-ac1e02529f2c",
   "metadata": {},
   "outputs": [],
   "source": [
    "db.plot(qry,\"segment\",\"customer_count\", \"pie\")"
   ]
  },
  {
   "cell_type": "markdown",
   "id": "3b276f5c-f763-4620-a1f2-f86ab067c87d",
   "metadata": {},
   "source": [
    "ANAMOLY Detection: Large Transactions"
   ]
  },
  {
   "cell_type": "code",
   "execution_count": null,
   "id": "0e83fba8-6793-427e-b507-b04c41c92c5f",
   "metadata": {},
   "outputs": [],
   "source": [
    "qry = \"\"\"\n",
    "WITH transaction_stats AS (\n",
    "    SELECT \n",
    "        AVG(TRANSACTION_AMOUNT) AS avg_amount,\n",
    "        (SUM(TRANSACTION_AMOUNT * TRANSACTION_AMOUNT) / COUNT(*) - \n",
    "         (AVG(TRANSACTION_AMOUNT) * AVG(TRANSACTION_AMOUNT))) AS variance\n",
    "    FROM TRAN\n",
    ")\n",
    "SELECT \n",
    "    CUSTOMER_ID,\n",
    "    ACCOUNT_ID,\n",
    "    account_type,\n",
    "    TRANSACTION_ID,\n",
    "    TRANSACTION_AMOUNT,\n",
    "    EXTERNAL_CATEGORY,\n",
    "    strftime('%Y-%m', POSTED_DATE) AS posted_month\n",
    "FROM TRAN, transaction_stats\n",
    "WHERE TRANSACTION_AMOUNT > (avg_amount + 3 * SQRT(variance));\n",
    "\"\"\"\n",
    "db.execute(qry)"
   ]
  },
  {
   "cell_type": "markdown",
   "id": "5138d397-905d-471f-a73d-45ee835e25d1",
   "metadata": {},
   "source": [
    "it identifies transactions that exceed a certain threshold—typically defined as being more than three standard deviations above the average transaction amount.Potential Anomalies: If the output was filtered for anomalies, these transactions are likely outliers, suggesting that they are larger than average or unusual in some other way based on your statistical calculations."
   ]
  },
  {
   "cell_type": "code",
   "execution_count": null,
   "id": "1d02f535-363e-4368-b64b-238ff96c9904",
   "metadata": {},
   "outputs": [],
   "source": [
    "db.plot_stacked_bar(qry, \"posted_month\", \"TRANSACTION_AMOUNT\", \"ACCOUNT_TYPE\")"
   ]
  },
  {
   "cell_type": "markdown",
   "id": "ebabf3df-96ba-4a3d-9259-173e2f32dc63",
   "metadata": {},
   "source": [
    "Spending Pattern Analysis"
   ]
  },
  {
   "cell_type": "code",
   "execution_count": null,
   "id": "f5392a3e-fb2b-460b-a44e-b133738dffe9",
   "metadata": {},
   "outputs": [],
   "source": [
    "qry = \"\"\"\n",
    "WITH Monthly_Spending AS (\n",
    "    SELECT \n",
    "        strftime('%Y-%m', POSTED_DATE) AS month,\n",
    "        ACCOUNT_TYPE,\n",
    "        SUM(TRANSACTION_AMOUNT) AS total_spent,\n",
    "        COUNT(*) AS transaction_count\n",
    "    FROM TRAN\n",
    "    WHERE TRANSACTION_AMOUNT < 0  -- Assuming negative values represent spending\n",
    "    GROUP BY month, ACCOUNT_TYPE\n",
    "),\n",
    "\n",
    "\n",
    "Overall_Spending AS (\n",
    "    SELECT \n",
    "        ACCOUNT_TYPE,\n",
    "        SUM(TRANSACTION_AMOUNT) AS total_spent,\n",
    "        COUNT(*) AS transaction_count\n",
    "    FROM TRAN\n",
    "    WHERE TRANSACTION_AMOUNT < 0\n",
    "    GROUP BY ACCOUNT_TYPE\n",
    ")\n",
    "\n",
    "SELECT \n",
    "    'Monthly Analysis' AS analysis_type,\n",
    "    month,\n",
    "    ACCOUNT_TYPE,\n",
    "    total_spent,\n",
    "    transaction_count\n",
    "FROM Monthly_Spending\n",
    "UNION ALL\n",
    "\n",
    "SELECT \n",
    "    'Overall Analysis' AS analysis_type,\n",
    "    NULL AS month_or_year,\n",
    "    ACCOUNT_TYPE,\n",
    "    total_spent,\n",
    "    transaction_count\n",
    "FROM Overall_Spending\n",
    "ORDER BY analysis_type, month_or_year, ACCOUNT_TYPE\n",
    ";\n",
    "\"\"\"\n",
    "db.execute(qry)"
   ]
  },
  {
   "cell_type": "code",
   "execution_count": null,
   "id": "335d1982-7ef4-4d50-bd72-5200a6aa4c02",
   "metadata": {},
   "outputs": [],
   "source": [
    "db.plot_stacked_bar(qry,\"analysis_type\",\"transaction_count\", \"ACCOUNT_TYPE\")"
   ]
  },
  {
   "cell_type": "code",
   "execution_count": null,
   "id": "ab73e98c-9092-484c-bec1-a6b36f8b12d8",
   "metadata": {},
   "outputs": [],
   "source": [
    "qry = \"\"\"\n",
    "with Yearly_Spending AS (\n",
    "    SELECT \n",
    "        strftime('%Y', POSTED_DATE) AS year,\n",
    "        ACCOUNT_TYPE,\n",
    "        SUM(TRANSACTION_AMOUNT) AS total_spent,\n",
    "        COUNT(*) AS transaction_count\n",
    "    FROM TRAN\n",
    "    WHERE TRANSACTION_AMOUNT < 0\n",
    "    GROUP BY year, ACCOUNT_TYPE\n",
    ")\n",
    "\n",
    "SELECT \n",
    "    'Yearly Analysis' AS analysis_type,\n",
    "    year,\n",
    "    ACCOUNT_TYPE,\n",
    "    total_spent,\n",
    "    transaction_count\n",
    "FROM Yearly_Spending;\n",
    "\"\"\"\n",
    "db.execute(qry)"
   ]
  },
  {
   "cell_type": "markdown",
   "id": "ef0a798b-0945-4da4-94d1-9b78acde9dbb",
   "metadata": {},
   "source": [
    "The Checking account consistently shows the highest total spending across all years, especially in 2022, which stands out with over $24 million spent"
   ]
  },
  {
   "cell_type": "code",
   "execution_count": null,
   "id": "8f19266a-e863-459f-b81f-f1a837a95bf3",
   "metadata": {},
   "outputs": [],
   "source": [
    "db.plot(qry,\"year\", \"transaction_count\", \"line\")"
   ]
  },
  {
   "cell_type": "markdown",
   "id": "67ecd33d-5fce-472f-911f-d8f11dc22a03",
   "metadata": {},
   "source": [
    "JOINING TWO TABLES"
   ]
  },
  {
   "cell_type": "markdown",
   "id": "d094eaa5-57b2-49bb-ba40-27347dbfa163",
   "metadata": {},
   "source": [
    "Inactive customers from the Customer Table from the given data"
   ]
  },
  {
   "cell_type": "code",
   "execution_count": null,
   "id": "022b5b84-d143-4278-af7d-39a3377aabb9",
   "metadata": {},
   "outputs": [],
   "source": [
    "qry = \"\"\"\n",
    "SELECT \n",
    "    I.CUSTOMER_ID,\n",
    "    I.CUSTOMER_JOIN_DATE,\n",
    "    I.LAST_LOGIN_DATE\n",
    "FROM \n",
    "    INFO I\n",
    "LEFT JOIN \n",
    "    TRAN T ON I.CUSTOMER_ID = T.CUSTOMER_ID\n",
    "GROUP BY \n",
    "    I.CUSTOMER_ID\n",
    "HAVING \n",
    "    COUNT(T.TRANSACTION_ID) = 0 OR \n",
    "    MAX(T.POSTED_DATE) < DATE('now', '-1 year');\n",
    "\"\"\"\n",
    "db.execute(qry)"
   ]
  },
  {
   "cell_type": "markdown",
   "id": "12e5b6cf-f33c-4f0d-808f-29fcfcd6d5af",
   "metadata": {},
   "source": [
    " State-wise Spending Analysis"
   ]
  },
  {
   "cell_type": "code",
   "execution_count": null,
   "id": "26822baf-48db-4d94-bc91-67667e21fe90",
   "metadata": {},
   "outputs": [],
   "source": [
    "qry = \"\"\"\n",
    "SELECT \n",
    "    I.STATE,\n",
    "    SUM(T.TRANSACTION_AMOUNT) AS TOTAL_SPENDING,\n",
    "    COUNT(DISTINCT I.CUSTOMER_ID) AS NUMBER_OF_CUSTOMERS\n",
    "FROM \n",
    "    INFO I\n",
    "LEFT JOIN \n",
    "    TRAN T ON I.CUSTOMER_ID = T.CUSTOMER_ID\n",
    "GROUP BY \n",
    "    I.STATE\n",
    "ORDER BY \n",
    "    TOTAL_SPENDING DESC\n",
    "\"\"\"\n",
    "db.execute(qry)"
   ]
  },
  {
   "cell_type": "code",
   "execution_count": null,
   "id": "36b08228-330e-4c6b-a7fb-7c3a227a3c8f",
   "metadata": {},
   "outputs": [],
   "source": [
    "qry = \"\"\"\n",
    "SELECT \n",
    "    CUSTOMER_TYPE,\n",
    "    CUSTOMER_SEGMENT,\n",
    "    COUNT(DISTINCT CUSTOMER_ID) AS NUMBER_OF_CUSTOMERS\n",
    "FROM (\n",
    "    SELECT \n",
    "        I.CUSTOMER_ID,\n",
    "        I.CUSTOMER_TYPE,\n",
    "        SUM(T.TRANSACTION_AMOUNT) AS TOTAL_SPENT,\n",
    "        CASE \n",
    "            WHEN SUM(T.TRANSACTION_AMOUNT) >= 1000 THEN 'High Value'\n",
    "            WHEN SUM(T.TRANSACTION_AMOUNT) BETWEEN 500 AND 999 THEN 'Medium Value'\n",
    "            ELSE 'Low Value'\n",
    "        END AS CUSTOMER_SEGMENT\n",
    "    FROM \n",
    "        INFO I\n",
    "    LEFT JOIN \n",
    "        TRAN T ON I.CUSTOMER_ID = T.CUSTOMER_ID\n",
    "    GROUP BY \n",
    "        I.CUSTOMER_ID, I.CUSTOMER_TYPE\n",
    ") AS Subquery\n",
    "GROUP BY \n",
    "    CUSTOMER_TYPE, CUSTOMER_SEGMENT\n",
    "ORDER BY \n",
    "    CUSTOMER_TYPE, CUSTOMER_SEGMENT;\n",
    "\"\"\"\n",
    "db.execute(qry)"
   ]
  },
  {
   "cell_type": "code",
   "execution_count": null,
   "id": "06235753-629d-49e3-b92b-635df47950b6",
   "metadata": {},
   "outputs": [],
   "source": [
    "db.plot_stacked_bar(qry,\"CUSTOMER_SEGMENT\", \"NUMBER_OF_CUSTOMERS\",\"CUSTOMER_TYPE\" )"
   ]
  },
  {
   "cell_type": "code",
   "execution_count": null,
   "id": "94859c37-0148-4504-9aaa-b06161ce396e",
   "metadata": {},
   "outputs": [],
   "source": []
  }
 ],
 "metadata": {
  "kernelspec": {
   "display_name": "Python 3 (ipykernel)",
   "language": "python",
   "name": "python3"
  },
  "language_info": {
   "codemirror_mode": {
    "name": "ipython",
    "version": 3
   },
   "file_extension": ".py",
   "mimetype": "text/x-python",
   "name": "python",
   "nbconvert_exporter": "python",
   "pygments_lexer": "ipython3",
   "version": "3.12.7"
  }
 },
 "nbformat": 4,
 "nbformat_minor": 5
}
